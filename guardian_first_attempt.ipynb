{
 "cells": [
  {
   "cell_type": "code",
   "execution_count": 20,
   "metadata": {
    "collapsed": false
   },
   "outputs": [
    {
     "name": "stdout",
     "output_type": "stream",
     "text": [
      "50  comments found in first page.\n",
      "50  authors found in first page.\n"
     ]
    }
   ],
   "source": [
    "import requests\n",
    "from bs4 import BeautifulSoup\n",
    "url = \"http://www.theguardian.com/discussion/p/4fqc7\"\n",
    "r = requests.get(url)\n",
    "html = r.text\n",
    "\n",
    "soup = BeautifulSoup(html, \"html.parser\")\n",
    "comments = soup.select(\".d-comment__main\")\n",
    "comment_authors = soup.select(\".d-comment__author\")\n",
    "print len (comments), \" comments found in first page.\"\n",
    "print len (comment_authors), \" authors found in first page.\""
   ]
  },
  {
   "cell_type": "markdown",
   "metadata": {},
   "source": [
    "# Iterate the comments"
   ]
  },
  {
   "cell_type": "code",
   "execution_count": 24,
   "metadata": {
    "collapsed": false
   },
   "outputs": [
    {
     "name": "stdout",
     "output_type": "stream",
     "text": [
      "[{'text': u\"I have lost count of the number of young people I have heard say they don't save, don't have a pension etc because the welfare system will only penalise for it, similarly elderly people who consider themselves fools for having savings or their own home.\", 'author': u'DrJazz'}, {'text': u'This taxes the ill or needy. Surely it is better to just increase inheritance tax so that no-one has top pay in their lifetime but (especially unearned) wealth is taxed once someone has died?', 'author': u'darvit'}, {'text': u'he UK has committed to spending \\xa31.162 trillion ', 'author': u'gtegte'}, {'text': u\"The British say they love our NHS. But if you ask them to pay more taxes to fund it (especially for the care of the elderly) they don't want to know. How do they expect the NHS to carry on and why don't they think ahead to when they are old?\", 'author': u'chelseachic'}, {'text': u\"There is some merit in your argument. Although the post-war 'baby boomer' generation has been the most privileged this country has ever seen, given the post war social contract and all that it brought. In the interests of fairness, the burden should not lay on those for whom the post war settlement has been shredded, to pay for the caring costs of those whom have been given so much help during their lifetime.\", 'author': u'thea1mighty'}, {'text': u'Simon Smith, please.', 'author': u'newtonheathman'}]\n"
     ]
    }
   ],
   "source": [
    "parsed_comments = []\n",
    "for comment, author in zip(comments, comment_authors):\n",
    "    t = comment.select(\".d-comment__body p\")[0].text\n",
    "    a = author['title']\n",
    "    parsed_comments.append({\"text\": t, \"author\": a})\n",
    "    \n",
    "print parsed_comments[:6]"
   ]
  },
  {
   "cell_type": "code",
   "execution_count": null,
   "metadata": {
    "collapsed": true
   },
   "outputs": [],
   "source": []
  }
 ],
 "metadata": {
  "kernelspec": {
   "display_name": "Python 2",
   "language": "python",
   "name": "python2"
  },
  "language_info": {
   "codemirror_mode": {
    "name": "ipython",
    "version": 2
   },
   "file_extension": ".py",
   "mimetype": "text/x-python",
   "name": "python",
   "nbconvert_exporter": "python",
   "pygments_lexer": "ipython2",
   "version": "2.7.9"
  }
 },
 "nbformat": 4,
 "nbformat_minor": 0
}
